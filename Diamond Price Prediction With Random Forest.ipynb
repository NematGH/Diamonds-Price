{
 "cells": [
  {
   "cell_type": "code",
   "execution_count": 1,
   "id": "expensive-vaccine",
   "metadata": {},
   "outputs": [],
   "source": [
    "# Import main libraries\n",
    "import pandas as pd\n",
    "from sklearn.model_selection import train_test_split\n",
    "from sklearn.ensemble import RandomForestRegressor"
   ]
  },
  {
   "cell_type": "code",
   "execution_count": 2,
   "id": "early-pizza",
   "metadata": {},
   "outputs": [
    {
     "name": "stdout",
     "output_type": "stream",
     "text": [
      "   id  carat      cut color clarity  depth  table  price     x     y     z\n",
      "0   1   0.23    Ideal     E     SI2   61.5   55.0    326  3.95  3.98  2.43\n",
      "1   2   0.21  Premium     E     SI1   59.8   61.0    326  3.89  3.84  2.31\n",
      "2   3   0.23     Good     E     VS1   56.9   65.0    327  4.05  4.07  2.31\n",
      "3   4   0.29  Premium     I     VS2   62.4   58.0    334  4.20  4.23  2.63\n",
      "4   5   0.31     Good     J     SI2   63.3   58.0    335  4.34  4.35  2.75\n"
     ]
    }
   ],
   "source": [
    "# Read data\n",
    "data = pd.read_csv(\"diamonds.csv\")\n",
    "print(data.head())"
   ]
  },
  {
   "cell_type": "code",
   "execution_count": 3,
   "id": "satellite-fossil",
   "metadata": {},
   "outputs": [],
   "source": [
    "# change character features in data to numeric\n",
    "cut_att_dict = {'Fair': 1, 'Good': 2, 'Very Good': 3, 'Premium': 4, 'Ideal': 5}\n",
    "clarity_att_dict = {\"I3\": 1, \"I2\": 2, \"I1\": 3, \"SI2\": 4, \"SI1\": 5, \"VS2\": 6, \"VS1\": 7, \"VVS2\": 8, \"VVS1\": 9, \"IF\": 10,\n",
    "                    \"FL\": 11}\n",
    "color_att_dict = {\"J\": 1, \"I\": 2, \"H\": 3, \"G\": 4, \"F\": 5, \"E\": 6, \"D\": 7}\n",
    "\n",
    "data['cut'] = data['cut'].map(cut_att_dict)\n",
    "data['clarity'] = data['clarity'].map(clarity_att_dict)\n",
    "data['color'] = data['color'].map(color_att_dict)"
   ]
  },
  {
   "cell_type": "code",
   "execution_count": 4,
   "id": "minute-manual",
   "metadata": {},
   "outputs": [],
   "source": [
    "# split train and test data\n",
    "columns = ['carat', 'x', 'y']\n",
    "X = data[columns]\n",
    "y = data[\"price\"]\n",
    "\n",
    "X_train, X_test, y_train, y_test = train_test_split(X, y, test_size=0.2, random_state=10)"
   ]
  },
  {
   "cell_type": "code",
   "execution_count": 5,
   "id": "several-highland",
   "metadata": {},
   "outputs": [
    {
     "name": "stdout",
     "output_type": "stream",
     "text": [
      "Train Accuracy : \n",
      "0.9590772485485632\n",
      "Test Accuracy\n",
      "0.8550574160994886\n"
     ]
    }
   ],
   "source": [
    "# Random Forest\n",
    "\n",
    "random_forest = RandomForestRegressor()\n",
    "random_forest.fit(X_train, y_train)\n",
    "print('Train Accuracy : ')\n",
    "print(random_forest.score(X_train, y_train))\n",
    "print('Test Accuracy')\n",
    "print(random_forest.score(X_test, y_test))"
   ]
  }
 ],
 "metadata": {
  "kernelspec": {
   "display_name": "Python 3",
   "language": "python",
   "name": "python3"
  },
  "language_info": {
   "codemirror_mode": {
    "name": "ipython",
    "version": 3
   },
   "file_extension": ".py",
   "mimetype": "text/x-python",
   "name": "python",
   "nbconvert_exporter": "python",
   "pygments_lexer": "ipython3",
   "version": "3.7.6"
  }
 },
 "nbformat": 4,
 "nbformat_minor": 5
}
